{
 "cells": [
  {
   "cell_type": "code",
   "execution_count": null,
   "metadata": {},
   "outputs": [],
   "source": []
  },
  {
   "cell_type": "code",
   "execution_count": 6,
   "metadata": {},
   "outputs": [
    {
     "data": {
      "image/png": "[encoded data removed]",
      "text/plain": [
       "<Figure size 432x288 with 2 Axes>"
      ]
     },
     "metadata": {},
     "output_type": "display_data"
    }
   ],
   "source": [
    "import pandas as pd\n",
    "import numpy as np\n",
    "from minepy import MINE\n",
    "\n",
    "fs = ['discret_xgb','R_rank_xgb','raw_xgb','rank_xgb','xgb717','bag of xgbs','svm','Java_rank_xgb']\n",
    "\n",
    "res = []\n",
    "res.append(pd.read_csv('C:/Users/tianjiayang/loan_predicting/mix of models/discrete_feature_xgb.csv').score.values)\n",
    "res.append(pd.read_csv('C:/Users/tianjiayang/loan_predicting/mix of models/7199.csv').score.values)\n",
    "res.append(pd.read_csv('C:/Users/tianjiayang/loan_predicting/mix of models/raw_feature_xgb.csv').score.values)\n",
    "res.append(pd.read_csv('C:/Users/tianjiayang/loan_predicting/mix of models/rank_feature_xgb.csv').score.values)\n",
    "res.append(pd.read_csv('C:/Users/tianjiayang/loan_predicting/mix of models/xgb717.csv').score.values)\n",
    "res.append(pd.read_csv('C:/Users/tianjiayang/loan_predicting/mix of models/36-xgb.csv').score.values)\n",
    "res.append(pd.read_csv('C:/Users/tianjiayang/loan_predicting/mix of models/svm6938.csv').score.values)\n",
    "res.append(pd.read_csv('C:/Users/tianjiayang/loan_predicting/mix of models/7218.csv').score.values)\n",
    "cm = []\n",
    "for i in range(8):\n",
    "    tmp = []\n",
    "    for j in range(8):\n",
    "        m = MINE()\n",
    "        m.compute_score(res[i], res[j])\n",
    "        tmp.append(m.mic())\n",
    "    cm.append(tmp)\n",
    "\n",
    "\n",
    "import numpy as np\n",
    "import matplotlib.pyplot as plt\n",
    "\n",
    "def plot_confusion_matrix(cm, title, cmap=plt.cm.Blues):\n",
    "    plt.imshow(cm, interpolation='nearest', cmap=cmap)\n",
    "    plt.title(title)\n",
    "    plt.colorbar()\n",
    "    tick_marks = np.arange(8)\n",
    "    plt.xticks(tick_marks, fs, rotation=45)\n",
    "    plt.yticks(tick_marks, fs)\n",
    "    plt.tight_layout()\n",
    "\n",
    "plot_confusion_matrix(cm, title='mic')\n",
    "plt.show()"
   ]
  },
  {
   "cell_type": "markdown",
   "metadata": {},
   "source": [
    "选择混淆矩阵中差异性比较大的几个来尝试简单的加权融合。"
   ]
  },
  {
   "cell_type": "markdown",
   "metadata": {},
   "source": [
    "# 1. 0.15XGB + 0.25SVM + 0.6Bagging of XGB"
   ]
  },
  {
   "cell_type": "code",
   "execution_count": 7,
   "metadata": {},
   "outputs": [],
   "source": [
    "\n",
    "import pandas as pd\n",
    "\n",
    "\n",
    "xgb717 = pd.read_csv(\"xgb717.csv\")\n",
    "svm = pd.read_csv('svm6938.csv')\n",
    "xgb725 = pd.read_csv('36-xgb.csv')\n",
    "\n",
    "uid = xgb717.uid\n",
    "score = 0.15*xgb717.score+0.25*svm.score+0.6*xgb725.score\n",
    "pred = pd.DataFrame(uid,columns=['uid'])\n",
    "pred['score'] = score\n",
    "\n",
    "pred.to_csv('1submission.csv',index=None,encoding='utf-8')"
   ]
  },
  {
   "cell_type": "markdown",
   "metadata": {},
   "source": [
    "# 2.0.2SVM + 0.65Bagging of XGB + 0.15single XGB_R"
   ]
  },
  {
   "cell_type": "code",
   "execution_count": 8,
   "metadata": {},
   "outputs": [],
   "source": [
    "rxgb = pd.read_csv('7199.csv')\n",
    "score2 = 0.2*svm.score + 0.65*xgb725.score + 0.15*rxgb.score\n",
    "uid = rxgb.uid\n",
    "pred2 = pd.DataFrame(uid,columns=['uid'])\n",
    "pred2['score'] = score2\n",
    "pred2.to_csv('2submission.csv',index=None,encoding='utf-8')\n"
   ]
  },
  {
   "cell_type": "markdown",
   "metadata": {},
   "source": [
    "# 3.0.8part1 + 0.2xgb by java"
   ]
  },
  {
   "cell_type": "code",
   "execution_count": 9,
   "metadata": {},
   "outputs": [],
   "source": [
    "part1 = pd.read_csv('2submission.csv')\n",
    "jxgb = pd.read_csv('7218.csv')\n",
    "score3 = 0.8*part1.score + 0.2*jxgb.score\n",
    "pred3 = pd.DataFrame(uid,columns=['uid'])\n",
    "pred3['score'] = score\n",
    "pred3.to_csv('3submission3.csv',index=None,encoding='utf-8')"
   ]
  },
  {
   "cell_type": "code",
   "execution_count": null,
   "metadata": {},
   "outputs": [],
   "source": [
    "FINAL ONLINE TEST AUC: 0.7271"
   ]
  }
 ],
 "metadata": {
  "kernelspec": {
   "display_name": "Python 3",
   "language": "python",
   "name": "python3"
  },
  "language_info": {
   "codemirror_mode": {
    "name": "ipython",
    "version": 3
   },
   "file_extension": ".py",
   "mimetype": "text/x-python",
   "name": "python",
   "nbconvert_exporter": "python",
   "pygments_lexer": "ipython3",
   "version": "3.6.5"
  }
 },
 "nbformat": 4,
 "nbformat_minor": 2
}
